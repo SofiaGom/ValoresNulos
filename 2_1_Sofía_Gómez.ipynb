{
  "nbformat": 4,
  "nbformat_minor": 0,
  "metadata": {
    "colab": {
      "provenance": [],
      "authorship_tag": "ABX9TyMzcyyUZEZdCr8cjfbJXb3V",
      "include_colab_link": true
    },
    "kernelspec": {
      "name": "python3",
      "display_name": "Python 3"
    },
    "language_info": {
      "name": "python"
    }
  },
  "cells": [
    {
      "cell_type": "markdown",
      "metadata": {
        "id": "view-in-github",
        "colab_type": "text"
      },
      "source": [
        "<a href=\"https://colab.research.google.com/github/SofiaGom/ValoresNulos/blob/main/2_1_Sof%C3%ADa_G%C3%B3mez.ipynb\" target=\"_parent\"><img src=\"https://colab.research.google.com/assets/colab-badge.svg\" alt=\"Open In Colab\"/></a>"
      ]
    },
    {
      "cell_type": "markdown",
      "source": [
        "##2.1: Valores Nulos\n",
        "Sofía Gómez Torres A01660774"
      ],
      "metadata": {
        "id": "7Ci-CfK4EAPc"
      }
    },
    {
      "cell_type": "code",
      "execution_count": 66,
      "metadata": {
        "id": "Lhx6Ii5tvL77"
      },
      "outputs": [],
      "source": [
        "import pandas as pd\n",
        "import numpy as np\n",
        "import matplotlib.pyplot as plt\n",
        "import seaborn as sns"
      ]
    },
    {
      "cell_type": "code",
      "source": [
        "#cargamos el DataSet\n",
        "df= pd.read_csv(\"Ventas_totales.csv\")\n",
        "df.head(5)"
      ],
      "metadata": {
        "colab": {
          "base_uri": "https://localhost:8080/",
          "height": 256
        },
        "id": "YZqhgSWivsjk",
        "outputId": "687ea35b-0732-439b-a089-4ccd4e64ae84"
      },
      "execution_count": 67,
      "outputs": [
        {
          "output_type": "execute_result",
          "data": {
            "text/plain": [
              "  indice_tiempo  ventas_precios_corrientes  ventas_precios_constantes  \\\n",
              "0    01/01/2017                    27858.9                    27477.3   \n",
              "1    01/02/2017                    25994.2                    25223.4   \n",
              "2    01/03/2017                    27780.0                    26334.3   \n",
              "3    01/04/2017                    29134.3                    27045.9   \n",
              "4    01/05/2017                    27969.0                    25631.9   \n",
              "\n",
              "   ventas_totales_canal_venta  salon_ventas  canales_on_line  \\\n",
              "0                 27858872.08   27591730.13       267141.956   \n",
              "1                 25994200.17   25749179.40       245020.769   \n",
              "2                 27780006.52   27472228.72       307777.804   \n",
              "3                 29134272.22   28827479.49       306792.733   \n",
              "4                 27969004.68   27569311.41       399693.262   \n",
              "\n",
              "   ventas_totales_medio_pago      efectivo  tarjetas_debito  tarjetas_credito  \\\n",
              "0                27858872.08  1.023010e+07      6864575.384       9047205.493   \n",
              "1                25994200.17  9.719067e+06      6438494.011       8309150.301   \n",
              "2                27780006.52  1.024444e+07      6908522.962       8845010.494   \n",
              "3                29134272.22  1.031263e+07      7454251.800       9458166.682   \n",
              "4                27969004.68  1.014761e+07      6735747.319       9220929.862   \n",
              "\n",
              "   ...      almacen     panaderia      lacteos       carnes  \\\n",
              "0  ...  6705475.318  9.459063e+05  2880656.169  2606192.942   \n",
              "1  ...  6576624.803  9.256186e+05  2855639.900  2600083.591   \n",
              "2  ...  7437264.174  1.016148e+06  3188259.169  2824976.726   \n",
              "3  ...  8211244.093  1.132396e+06  3257140.159  3006158.760   \n",
              "4  ...  7651058.084  1.033082e+06  3232635.767  2799142.123   \n",
              "\n",
              "   verduleria_fruteria  alimentos_preparados_rotiseria  \\\n",
              "0         1.050314e+06                     340777.3882   \n",
              "1         1.026167e+06                     328288.6951   \n",
              "2         1.075526e+06                     353335.1548   \n",
              "3         1.037213e+06                     359694.4537   \n",
              "4         9.826512e+05                     336568.0085   \n",
              "\n",
              "   articulos_limpieza_perfumeria  indumentaria_calzado_textiles_hogar  \\\n",
              "0                    4397543.671                          772371.8476   \n",
              "1                    4053283.771                          672290.5165   \n",
              "2                    4354197.611                          667696.6653   \n",
              "3                    4355706.646                          838948.2458   \n",
              "4                    4206101.605                          915895.1498   \n",
              "\n",
              "   electronicos_articulos_hogar        otros  \n",
              "0                   1838507.096  2806660.309  \n",
              "1                   1257661.903  2354084.901  \n",
              "2                   1305674.917  2266189.277  \n",
              "3                   1535726.345  2146755.887  \n",
              "4                   1824462.036  2117971.483  \n",
              "\n",
              "[5 rows x 24 columns]"
            ],
            "text/html": [
              "\n",
              "  <div id=\"df-8da67f4f-1f0d-4643-86f2-b44efef7deca\" class=\"colab-df-container\">\n",
              "    <div>\n",
              "<style scoped>\n",
              "    .dataframe tbody tr th:only-of-type {\n",
              "        vertical-align: middle;\n",
              "    }\n",
              "\n",
              "    .dataframe tbody tr th {\n",
              "        vertical-align: top;\n",
              "    }\n",
              "\n",
              "    .dataframe thead th {\n",
              "        text-align: right;\n",
              "    }\n",
              "</style>\n",
              "<table border=\"1\" class=\"dataframe\">\n",
              "  <thead>\n",
              "    <tr style=\"text-align: right;\">\n",
              "      <th></th>\n",
              "      <th>indice_tiempo</th>\n",
              "      <th>ventas_precios_corrientes</th>\n",
              "      <th>ventas_precios_constantes</th>\n",
              "      <th>ventas_totales_canal_venta</th>\n",
              "      <th>salon_ventas</th>\n",
              "      <th>canales_on_line</th>\n",
              "      <th>ventas_totales_medio_pago</th>\n",
              "      <th>efectivo</th>\n",
              "      <th>tarjetas_debito</th>\n",
              "      <th>tarjetas_credito</th>\n",
              "      <th>...</th>\n",
              "      <th>almacen</th>\n",
              "      <th>panaderia</th>\n",
              "      <th>lacteos</th>\n",
              "      <th>carnes</th>\n",
              "      <th>verduleria_fruteria</th>\n",
              "      <th>alimentos_preparados_rotiseria</th>\n",
              "      <th>articulos_limpieza_perfumeria</th>\n",
              "      <th>indumentaria_calzado_textiles_hogar</th>\n",
              "      <th>electronicos_articulos_hogar</th>\n",
              "      <th>otros</th>\n",
              "    </tr>\n",
              "  </thead>\n",
              "  <tbody>\n",
              "    <tr>\n",
              "      <th>0</th>\n",
              "      <td>01/01/2017</td>\n",
              "      <td>27858.9</td>\n",
              "      <td>27477.3</td>\n",
              "      <td>27858872.08</td>\n",
              "      <td>27591730.13</td>\n",
              "      <td>267141.956</td>\n",
              "      <td>27858872.08</td>\n",
              "      <td>1.023010e+07</td>\n",
              "      <td>6864575.384</td>\n",
              "      <td>9047205.493</td>\n",
              "      <td>...</td>\n",
              "      <td>6705475.318</td>\n",
              "      <td>9.459063e+05</td>\n",
              "      <td>2880656.169</td>\n",
              "      <td>2606192.942</td>\n",
              "      <td>1.050314e+06</td>\n",
              "      <td>340777.3882</td>\n",
              "      <td>4397543.671</td>\n",
              "      <td>772371.8476</td>\n",
              "      <td>1838507.096</td>\n",
              "      <td>2806660.309</td>\n",
              "    </tr>\n",
              "    <tr>\n",
              "      <th>1</th>\n",
              "      <td>01/02/2017</td>\n",
              "      <td>25994.2</td>\n",
              "      <td>25223.4</td>\n",
              "      <td>25994200.17</td>\n",
              "      <td>25749179.40</td>\n",
              "      <td>245020.769</td>\n",
              "      <td>25994200.17</td>\n",
              "      <td>9.719067e+06</td>\n",
              "      <td>6438494.011</td>\n",
              "      <td>8309150.301</td>\n",
              "      <td>...</td>\n",
              "      <td>6576624.803</td>\n",
              "      <td>9.256186e+05</td>\n",
              "      <td>2855639.900</td>\n",
              "      <td>2600083.591</td>\n",
              "      <td>1.026167e+06</td>\n",
              "      <td>328288.6951</td>\n",
              "      <td>4053283.771</td>\n",
              "      <td>672290.5165</td>\n",
              "      <td>1257661.903</td>\n",
              "      <td>2354084.901</td>\n",
              "    </tr>\n",
              "    <tr>\n",
              "      <th>2</th>\n",
              "      <td>01/03/2017</td>\n",
              "      <td>27780.0</td>\n",
              "      <td>26334.3</td>\n",
              "      <td>27780006.52</td>\n",
              "      <td>27472228.72</td>\n",
              "      <td>307777.804</td>\n",
              "      <td>27780006.52</td>\n",
              "      <td>1.024444e+07</td>\n",
              "      <td>6908522.962</td>\n",
              "      <td>8845010.494</td>\n",
              "      <td>...</td>\n",
              "      <td>7437264.174</td>\n",
              "      <td>1.016148e+06</td>\n",
              "      <td>3188259.169</td>\n",
              "      <td>2824976.726</td>\n",
              "      <td>1.075526e+06</td>\n",
              "      <td>353335.1548</td>\n",
              "      <td>4354197.611</td>\n",
              "      <td>667696.6653</td>\n",
              "      <td>1305674.917</td>\n",
              "      <td>2266189.277</td>\n",
              "    </tr>\n",
              "    <tr>\n",
              "      <th>3</th>\n",
              "      <td>01/04/2017</td>\n",
              "      <td>29134.3</td>\n",
              "      <td>27045.9</td>\n",
              "      <td>29134272.22</td>\n",
              "      <td>28827479.49</td>\n",
              "      <td>306792.733</td>\n",
              "      <td>29134272.22</td>\n",
              "      <td>1.031263e+07</td>\n",
              "      <td>7454251.800</td>\n",
              "      <td>9458166.682</td>\n",
              "      <td>...</td>\n",
              "      <td>8211244.093</td>\n",
              "      <td>1.132396e+06</td>\n",
              "      <td>3257140.159</td>\n",
              "      <td>3006158.760</td>\n",
              "      <td>1.037213e+06</td>\n",
              "      <td>359694.4537</td>\n",
              "      <td>4355706.646</td>\n",
              "      <td>838948.2458</td>\n",
              "      <td>1535726.345</td>\n",
              "      <td>2146755.887</td>\n",
              "    </tr>\n",
              "    <tr>\n",
              "      <th>4</th>\n",
              "      <td>01/05/2017</td>\n",
              "      <td>27969.0</td>\n",
              "      <td>25631.9</td>\n",
              "      <td>27969004.68</td>\n",
              "      <td>27569311.41</td>\n",
              "      <td>399693.262</td>\n",
              "      <td>27969004.68</td>\n",
              "      <td>1.014761e+07</td>\n",
              "      <td>6735747.319</td>\n",
              "      <td>9220929.862</td>\n",
              "      <td>...</td>\n",
              "      <td>7651058.084</td>\n",
              "      <td>1.033082e+06</td>\n",
              "      <td>3232635.767</td>\n",
              "      <td>2799142.123</td>\n",
              "      <td>9.826512e+05</td>\n",
              "      <td>336568.0085</td>\n",
              "      <td>4206101.605</td>\n",
              "      <td>915895.1498</td>\n",
              "      <td>1824462.036</td>\n",
              "      <td>2117971.483</td>\n",
              "    </tr>\n",
              "  </tbody>\n",
              "</table>\n",
              "<p>5 rows × 24 columns</p>\n",
              "</div>\n",
              "    <div class=\"colab-df-buttons\">\n",
              "\n",
              "  <div class=\"colab-df-container\">\n",
              "    <button class=\"colab-df-convert\" onclick=\"convertToInteractive('df-8da67f4f-1f0d-4643-86f2-b44efef7deca')\"\n",
              "            title=\"Convert this dataframe to an interactive table.\"\n",
              "            style=\"display:none;\">\n",
              "\n",
              "  <svg xmlns=\"http://www.w3.org/2000/svg\" height=\"24px\" viewBox=\"0 -960 960 960\">\n",
              "    <path d=\"M120-120v-720h720v720H120Zm60-500h600v-160H180v160Zm220 220h160v-160H400v160Zm0 220h160v-160H400v160ZM180-400h160v-160H180v160Zm440 0h160v-160H620v160ZM180-180h160v-160H180v160Zm440 0h160v-160H620v160Z\"/>\n",
              "  </svg>\n",
              "    </button>\n",
              "\n",
              "  <style>\n",
              "    .colab-df-container {\n",
              "      display:flex;\n",
              "      gap: 12px;\n",
              "    }\n",
              "\n",
              "    .colab-df-convert {\n",
              "      background-color: #E8F0FE;\n",
              "      border: none;\n",
              "      border-radius: 50%;\n",
              "      cursor: pointer;\n",
              "      display: none;\n",
              "      fill: #1967D2;\n",
              "      height: 32px;\n",
              "      padding: 0 0 0 0;\n",
              "      width: 32px;\n",
              "    }\n",
              "\n",
              "    .colab-df-convert:hover {\n",
              "      background-color: #E2EBFA;\n",
              "      box-shadow: 0px 1px 2px rgba(60, 64, 67, 0.3), 0px 1px 3px 1px rgba(60, 64, 67, 0.15);\n",
              "      fill: #174EA6;\n",
              "    }\n",
              "\n",
              "    .colab-df-buttons div {\n",
              "      margin-bottom: 4px;\n",
              "    }\n",
              "\n",
              "    [theme=dark] .colab-df-convert {\n",
              "      background-color: #3B4455;\n",
              "      fill: #D2E3FC;\n",
              "    }\n",
              "\n",
              "    [theme=dark] .colab-df-convert:hover {\n",
              "      background-color: #434B5C;\n",
              "      box-shadow: 0px 1px 3px 1px rgba(0, 0, 0, 0.15);\n",
              "      filter: drop-shadow(0px 1px 2px rgba(0, 0, 0, 0.3));\n",
              "      fill: #FFFFFF;\n",
              "    }\n",
              "  </style>\n",
              "\n",
              "    <script>\n",
              "      const buttonEl =\n",
              "        document.querySelector('#df-8da67f4f-1f0d-4643-86f2-b44efef7deca button.colab-df-convert');\n",
              "      buttonEl.style.display =\n",
              "        google.colab.kernel.accessAllowed ? 'block' : 'none';\n",
              "\n",
              "      async function convertToInteractive(key) {\n",
              "        const element = document.querySelector('#df-8da67f4f-1f0d-4643-86f2-b44efef7deca');\n",
              "        const dataTable =\n",
              "          await google.colab.kernel.invokeFunction('convertToInteractive',\n",
              "                                                    [key], {});\n",
              "        if (!dataTable) return;\n",
              "\n",
              "        const docLinkHtml = 'Like what you see? Visit the ' +\n",
              "          '<a target=\"_blank\" href=https://colab.research.google.com/notebooks/data_table.ipynb>data table notebook</a>'\n",
              "          + ' to learn more about interactive tables.';\n",
              "        element.innerHTML = '';\n",
              "        dataTable['output_type'] = 'display_data';\n",
              "        await google.colab.output.renderOutput(dataTable, element);\n",
              "        const docLink = document.createElement('div');\n",
              "        docLink.innerHTML = docLinkHtml;\n",
              "        element.appendChild(docLink);\n",
              "      }\n",
              "    </script>\n",
              "  </div>\n",
              "\n",
              "\n",
              "<div id=\"df-e6d75c2f-127a-4d3b-9a58-a4ec7ebb1ac8\">\n",
              "  <button class=\"colab-df-quickchart\" onclick=\"quickchart('df-e6d75c2f-127a-4d3b-9a58-a4ec7ebb1ac8')\"\n",
              "            title=\"Suggest charts.\"\n",
              "            style=\"display:none;\">\n",
              "\n",
              "<svg xmlns=\"http://www.w3.org/2000/svg\" height=\"24px\"viewBox=\"0 0 24 24\"\n",
              "     width=\"24px\">\n",
              "    <g>\n",
              "        <path d=\"M19 3H5c-1.1 0-2 .9-2 2v14c0 1.1.9 2 2 2h14c1.1 0 2-.9 2-2V5c0-1.1-.9-2-2-2zM9 17H7v-7h2v7zm4 0h-2V7h2v10zm4 0h-2v-4h2v4z\"/>\n",
              "    </g>\n",
              "</svg>\n",
              "  </button>\n",
              "\n",
              "<style>\n",
              "  .colab-df-quickchart {\n",
              "      --bg-color: #E8F0FE;\n",
              "      --fill-color: #1967D2;\n",
              "      --hover-bg-color: #E2EBFA;\n",
              "      --hover-fill-color: #174EA6;\n",
              "      --disabled-fill-color: #AAA;\n",
              "      --disabled-bg-color: #DDD;\n",
              "  }\n",
              "\n",
              "  [theme=dark] .colab-df-quickchart {\n",
              "      --bg-color: #3B4455;\n",
              "      --fill-color: #D2E3FC;\n",
              "      --hover-bg-color: #434B5C;\n",
              "      --hover-fill-color: #FFFFFF;\n",
              "      --disabled-bg-color: #3B4455;\n",
              "      --disabled-fill-color: #666;\n",
              "  }\n",
              "\n",
              "  .colab-df-quickchart {\n",
              "    background-color: var(--bg-color);\n",
              "    border: none;\n",
              "    border-radius: 50%;\n",
              "    cursor: pointer;\n",
              "    display: none;\n",
              "    fill: var(--fill-color);\n",
              "    height: 32px;\n",
              "    padding: 0;\n",
              "    width: 32px;\n",
              "  }\n",
              "\n",
              "  .colab-df-quickchart:hover {\n",
              "    background-color: var(--hover-bg-color);\n",
              "    box-shadow: 0 1px 2px rgba(60, 64, 67, 0.3), 0 1px 3px 1px rgba(60, 64, 67, 0.15);\n",
              "    fill: var(--button-hover-fill-color);\n",
              "  }\n",
              "\n",
              "  .colab-df-quickchart-complete:disabled,\n",
              "  .colab-df-quickchart-complete:disabled:hover {\n",
              "    background-color: var(--disabled-bg-color);\n",
              "    fill: var(--disabled-fill-color);\n",
              "    box-shadow: none;\n",
              "  }\n",
              "\n",
              "  .colab-df-spinner {\n",
              "    border: 2px solid var(--fill-color);\n",
              "    border-color: transparent;\n",
              "    border-bottom-color: var(--fill-color);\n",
              "    animation:\n",
              "      spin 1s steps(1) infinite;\n",
              "  }\n",
              "\n",
              "  @keyframes spin {\n",
              "    0% {\n",
              "      border-color: transparent;\n",
              "      border-bottom-color: var(--fill-color);\n",
              "      border-left-color: var(--fill-color);\n",
              "    }\n",
              "    20% {\n",
              "      border-color: transparent;\n",
              "      border-left-color: var(--fill-color);\n",
              "      border-top-color: var(--fill-color);\n",
              "    }\n",
              "    30% {\n",
              "      border-color: transparent;\n",
              "      border-left-color: var(--fill-color);\n",
              "      border-top-color: var(--fill-color);\n",
              "      border-right-color: var(--fill-color);\n",
              "    }\n",
              "    40% {\n",
              "      border-color: transparent;\n",
              "      border-right-color: var(--fill-color);\n",
              "      border-top-color: var(--fill-color);\n",
              "    }\n",
              "    60% {\n",
              "      border-color: transparent;\n",
              "      border-right-color: var(--fill-color);\n",
              "    }\n",
              "    80% {\n",
              "      border-color: transparent;\n",
              "      border-right-color: var(--fill-color);\n",
              "      border-bottom-color: var(--fill-color);\n",
              "    }\n",
              "    90% {\n",
              "      border-color: transparent;\n",
              "      border-bottom-color: var(--fill-color);\n",
              "    }\n",
              "  }\n",
              "</style>\n",
              "\n",
              "  <script>\n",
              "    async function quickchart(key) {\n",
              "      const quickchartButtonEl =\n",
              "        document.querySelector('#' + key + ' button');\n",
              "      quickchartButtonEl.disabled = true;  // To prevent multiple clicks.\n",
              "      quickchartButtonEl.classList.add('colab-df-spinner');\n",
              "      try {\n",
              "        const charts = await google.colab.kernel.invokeFunction(\n",
              "            'suggestCharts', [key], {});\n",
              "      } catch (error) {\n",
              "        console.error('Error during call to suggestCharts:', error);\n",
              "      }\n",
              "      quickchartButtonEl.classList.remove('colab-df-spinner');\n",
              "      quickchartButtonEl.classList.add('colab-df-quickchart-complete');\n",
              "    }\n",
              "    (() => {\n",
              "      let quickchartButtonEl =\n",
              "        document.querySelector('#df-e6d75c2f-127a-4d3b-9a58-a4ec7ebb1ac8 button');\n",
              "      quickchartButtonEl.style.display =\n",
              "        google.colab.kernel.accessAllowed ? 'block' : 'none';\n",
              "    })();\n",
              "  </script>\n",
              "</div>\n",
              "    </div>\n",
              "  </div>\n"
            ]
          },
          "metadata": {},
          "execution_count": 67
        }
      ]
    },
    {
      "cell_type": "code",
      "source": [
        "#valores nulos\n",
        "print(\"Los valores nulos por columna son:\")\n",
        "df_nulos = df.isnull().sum()\n",
        "df_nulos"
      ],
      "metadata": {
        "id": "MrVrK2BCwDsO",
        "colab": {
          "base_uri": "https://localhost:8080/"
        },
        "outputId": "5ddc713d-9f0d-42dd-c6f9-f8c345222d0d"
      },
      "execution_count": 68,
      "outputs": [
        {
          "output_type": "stream",
          "name": "stdout",
          "text": [
            "Los valores nulos por columna son:\n"
          ]
        },
        {
          "output_type": "execute_result",
          "data": {
            "text/plain": [
              "indice_tiempo                           0\n",
              "ventas_precios_corrientes               0\n",
              "ventas_precios_constantes               0\n",
              "ventas_totales_canal_venta              0\n",
              "salon_ventas                            6\n",
              "canales_on_line                         0\n",
              "ventas_totales_medio_pago               0\n",
              "efectivo                                0\n",
              "tarjetas_debito                         1\n",
              "tarjetas_credito                        7\n",
              "otros_medios                            1\n",
              "ventas_totales_grupo_articulos          0\n",
              "subtotal_ventas_alimentos_bebidas      10\n",
              "bebidas                                 1\n",
              "almacen                                 2\n",
              "panaderia                               1\n",
              "lacteos                                 1\n",
              "carnes                                  1\n",
              "verduleria_fruteria                     1\n",
              "alimentos_preparados_rotiseria          1\n",
              "articulos_limpieza_perfumeria           0\n",
              "indumentaria_calzado_textiles_hogar     2\n",
              "electronicos_articulos_hogar            3\n",
              "otros                                   4\n",
              "dtype: int64"
            ]
          },
          "metadata": {},
          "execution_count": 68
        }
      ]
    },
    {
      "cell_type": "code",
      "source": [
        "df_nulos =df.isnull().sum().sum()\n",
        "df_nulos"
      ],
      "metadata": {
        "colab": {
          "base_uri": "https://localhost:8080/"
        },
        "id": "GOGCxqzBI4A6",
        "outputId": "85fb05e7-3af6-47b8-deda-6647bd688959"
      },
      "execution_count": 69,
      "outputs": [
        {
          "output_type": "execute_result",
          "data": {
            "text/plain": [
              "42"
            ]
          },
          "metadata": {},
          "execution_count": 69
        }
      ]
    },
    {
      "cell_type": "markdown",
      "source": [
        "#Sustitución de valores nulos\n",
        "\n"
      ],
      "metadata": {
        "id": "4d79e5wawFwh"
      }
    },
    {
      "cell_type": "code",
      "source": [
        "#Realizamos una copia del dataframe\n",
        "df2=df.copy()"
      ],
      "metadata": {
        "id": "znpUDu5PwE4s"
      },
      "execution_count": 70,
      "outputs": []
    },
    {
      "cell_type": "code",
      "source": [
        "#Sustituir valores nulos con promedio o media\n",
        "c1 = df2[\"salon_ventas\"]=df2[\"salon_ventas\"].fillna(round(df[\"salon_ventas\"].mean(),1))"
      ],
      "metadata": {
        "id": "FyesLB2_NfkD"
      },
      "execution_count": 71,
      "outputs": []
    },
    {
      "cell_type": "code",
      "source": [
        "#Sustituir valores nulos con promedio o media\n",
        "c2 = df2[\"tarjetas_debito\"]=df2[\"tarjetas_debito\"].fillna(round(df[\"tarjetas_debito\"].mean(),1))"
      ],
      "metadata": {
        "id": "4Fe8oA_dOADi"
      },
      "execution_count": 72,
      "outputs": []
    },
    {
      "cell_type": "code",
      "source": [
        "#Sustituir valores nulos con promedio o media\n",
        "c3 = df2[\"tarjetas_credito\"]=df2[\"tarjetas_credito\"].fillna(round(df[\"tarjetas_credito\"].mean(),1))"
      ],
      "metadata": {
        "id": "yQt1uJVJPAUJ"
      },
      "execution_count": 73,
      "outputs": []
    },
    {
      "cell_type": "code",
      "source": [
        "#Sustituir valores nulos con promedio o media\n",
        "c4= df2[\"otros_medios\"]=df2[\"otros_medios\"].fillna(round(df[\"otros_medios\"].mean(),1))"
      ],
      "metadata": {
        "id": "3ZHTiEDUPNgD"
      },
      "execution_count": 74,
      "outputs": []
    },
    {
      "cell_type": "code",
      "source": [
        "#Segundo método de sustitución de valores nulos\n",
        "#Sustituir valores nulos con mediana\n",
        "c5 = df2[\"subtotal_ventas_alimentos_bebidas\"]=df2[\"subtotal_ventas_alimentos_bebidas\"].fillna(round(df2[\"subtotal_ventas_alimentos_bebidas\"].median(),1))\n"
      ],
      "metadata": {
        "id": "96YdH-F4N81s"
      },
      "execution_count": 75,
      "outputs": []
    },
    {
      "cell_type": "code",
      "source": [
        "#Sustituir valores nulos con promedio o media\n",
        "c6 = df2[\"bebidas\"]=df2[\"bebidas\"].fillna(round(df[\"bebidas\"].mean(),1))"
      ],
      "metadata": {
        "id": "1MGib9a4PigU"
      },
      "execution_count": 76,
      "outputs": []
    },
    {
      "cell_type": "code",
      "source": [
        "#Quinto método de sustitución de valores nulos\n",
        "#Sustituir valores nulos por valores no nulos hacia adelante  \"forward fill\" (\"ffill\")\n",
        "#Filtro por columnas\n",
        "c7 = df2[\"almacen\"] =df2[\"almacen\"].fillna(method=\"ffill\")"
      ],
      "metadata": {
        "id": "h3GiRotvP5hw"
      },
      "execution_count": 77,
      "outputs": []
    },
    {
      "cell_type": "code",
      "source": [
        "#Sexto método de sustitución de valores nulos\n",
        "#Sustituir valores nulos por valores no nulos hacia atrás backward fill\" (\"bfill\")\n",
        "#Filtro por columnas\n",
        "c8 = df2[\"panaderia\"] =df2[\"panaderia\"].fillna(method=\"bfill\")"
      ],
      "metadata": {
        "id": "MHmydh-0QAHZ"
      },
      "execution_count": 78,
      "outputs": []
    },
    {
      "cell_type": "code",
      "source": [
        "#Sustituir valores nulos por valores no nulos hacia adelante  \"forward fill\" (\"ffill\")\n",
        "#Filtro por columnas\n",
        "c9 = df2[\"lacteos\"] =df2[\"lacteos\"].fillna(method=\"ffill\")"
      ],
      "metadata": {
        "id": "2EBIsViYQTF3"
      },
      "execution_count": 79,
      "outputs": []
    },
    {
      "cell_type": "code",
      "source": [
        "#Sustituir valores nulos por valores no nulos hacia adelante  \"forward fill\" (\"ffill\")\n",
        "#Filtro por columnas\n",
        "c10= df2[\"carnes\"] =df2[\"carnes\"].fillna(method=\"ffill\")"
      ],
      "metadata": {
        "id": "_ROUd0UoQYTf"
      },
      "execution_count": 80,
      "outputs": []
    },
    {
      "cell_type": "code",
      "source": [
        "#Sustituir valores nulos por valores no nulos hacia atrás backward fill\" (\"bfill\")\n",
        "#Filtro por columnas\n",
        "c11= df2[\"verduleria_fruteria\"] =df2[\"verduleria_fruteria\"].fillna(method=\"bfill\")"
      ],
      "metadata": {
        "id": "g1lnSHo9QfBf"
      },
      "execution_count": 81,
      "outputs": []
    },
    {
      "cell_type": "code",
      "source": [
        "#Filtro por columnas\n",
        "c12= df2[\"alimentos_preparados_rotiseria\"] =df2[\"alimentos_preparados_rotiseria\"].fillna(method=\"bfill\")"
      ],
      "metadata": {
        "id": "QuCGM03MQkng"
      },
      "execution_count": 82,
      "outputs": []
    },
    {
      "cell_type": "code",
      "source": [
        "#Sustituir valores nulos con mediana\n",
        "c13= df2[\"indumentaria_calzado_textiles_hogar\"]=df2[\"indumentaria_calzado_textiles_hogar\"].fillna(round(df2[\"indumentaria_calzado_textiles_hogar\"].median(),1))\n"
      ],
      "metadata": {
        "id": "zmW3UMKRQwjS"
      },
      "execution_count": 83,
      "outputs": []
    },
    {
      "cell_type": "code",
      "source": [
        "#Sustituir valores nulos con mediana\n",
        "c14= df2[\"electronicos_articulos_hogar\"]=df2[\"electronicos_articulos_hogar\"].fillna(round(df2[\"electronicos_articulos_hogar\"].median(),1))\n"
      ],
      "metadata": {
        "id": "1TUMHP9eQ35T"
      },
      "execution_count": 84,
      "outputs": []
    },
    {
      "cell_type": "code",
      "source": [
        "#sustituir valores nulos con promedio o media\n",
        "c15= df2[\"otros\"]=df2[\"otros\"].fillna(round(df[\"otros\"].mean(),1))"
      ],
      "metadata": {
        "id": "XcPJwSKLRAaJ"
      },
      "execution_count": 85,
      "outputs": []
    },
    {
      "cell_type": "code",
      "source": [
        "#Corroboramos valores nulos\n",
        "valores_nulos=df2.isnull().sum()\n",
        "valores_nulos"
      ],
      "metadata": {
        "colab": {
          "base_uri": "https://localhost:8080/"
        },
        "id": "tK2FKzffN4BF",
        "outputId": "3f26c5c8-4244-4598-c96e-a45fc5468adc"
      },
      "execution_count": 86,
      "outputs": [
        {
          "output_type": "execute_result",
          "data": {
            "text/plain": [
              "indice_tiempo                          0\n",
              "ventas_precios_corrientes              0\n",
              "ventas_precios_constantes              0\n",
              "ventas_totales_canal_venta             0\n",
              "salon_ventas                           0\n",
              "canales_on_line                        0\n",
              "ventas_totales_medio_pago              0\n",
              "efectivo                               0\n",
              "tarjetas_debito                        0\n",
              "tarjetas_credito                       0\n",
              "otros_medios                           0\n",
              "ventas_totales_grupo_articulos         0\n",
              "subtotal_ventas_alimentos_bebidas      0\n",
              "bebidas                                0\n",
              "almacen                                0\n",
              "panaderia                              0\n",
              "lacteos                                0\n",
              "carnes                                 0\n",
              "verduleria_fruteria                    0\n",
              "alimentos_preparados_rotiseria         0\n",
              "articulos_limpieza_perfumeria          0\n",
              "indumentaria_calzado_textiles_hogar    0\n",
              "electronicos_articulos_hogar           0\n",
              "otros                                  0\n",
              "dtype: int64"
            ]
          },
          "metadata": {},
          "execution_count": 86
        }
      ]
    },
    {
      "cell_type": "code",
      "source": [
        "#Convertir archivo filtrado a CSV\n",
        "#descardar archivo filtrado en csv\n",
        "from google.colab import files\n",
        "\n",
        "c1.to_csv(\"Columna1.csv\")\n",
        "files.download(\"Columna1.csv\")"
      ],
      "metadata": {
        "colab": {
          "base_uri": "https://localhost:8080/",
          "height": 17
        },
        "id": "Jl2I3NwpR1P4",
        "outputId": "5b1a1aa7-0956-4229-8081-b2f5f9b925ac"
      },
      "execution_count": 87,
      "outputs": [
        {
          "output_type": "display_data",
          "data": {
            "text/plain": [
              "<IPython.core.display.Javascript object>"
            ],
            "application/javascript": [
              "\n",
              "    async function download(id, filename, size) {\n",
              "      if (!google.colab.kernel.accessAllowed) {\n",
              "        return;\n",
              "      }\n",
              "      const div = document.createElement('div');\n",
              "      const label = document.createElement('label');\n",
              "      label.textContent = `Downloading \"${filename}\": `;\n",
              "      div.appendChild(label);\n",
              "      const progress = document.createElement('progress');\n",
              "      progress.max = size;\n",
              "      div.appendChild(progress);\n",
              "      document.body.appendChild(div);\n",
              "\n",
              "      const buffers = [];\n",
              "      let downloaded = 0;\n",
              "\n",
              "      const channel = await google.colab.kernel.comms.open(id);\n",
              "      // Send a message to notify the kernel that we're ready.\n",
              "      channel.send({})\n",
              "\n",
              "      for await (const message of channel.messages) {\n",
              "        // Send a message to notify the kernel that we're ready.\n",
              "        channel.send({})\n",
              "        if (message.buffers) {\n",
              "          for (const buffer of message.buffers) {\n",
              "            buffers.push(buffer);\n",
              "            downloaded += buffer.byteLength;\n",
              "            progress.value = downloaded;\n",
              "          }\n",
              "        }\n",
              "      }\n",
              "      const blob = new Blob(buffers, {type: 'application/binary'});\n",
              "      const a = document.createElement('a');\n",
              "      a.href = window.URL.createObjectURL(blob);\n",
              "      a.download = filename;\n",
              "      div.appendChild(a);\n",
              "      a.click();\n",
              "      div.remove();\n",
              "    }\n",
              "  "
            ]
          },
          "metadata": {}
        },
        {
          "output_type": "display_data",
          "data": {
            "text/plain": [
              "<IPython.core.display.Javascript object>"
            ],
            "application/javascript": [
              "download(\"download_de93fb17-b0fe-4be4-8437-0bda8bd8ff67\", \"Columna1.csv\", 971)"
            ]
          },
          "metadata": {}
        }
      ]
    },
    {
      "cell_type": "code",
      "source": [
        "c2.to_csv(\"Columna2.csv\")\n",
        "files.download(\"Columna2.csv\")"
      ],
      "metadata": {
        "colab": {
          "base_uri": "https://localhost:8080/",
          "height": 17
        },
        "id": "A9OmnJ4OSWop",
        "outputId": "386b92fc-4e13-4d91-cbbe-9879bc270f10"
      },
      "execution_count": 88,
      "outputs": [
        {
          "output_type": "display_data",
          "data": {
            "text/plain": [
              "<IPython.core.display.Javascript object>"
            ],
            "application/javascript": [
              "\n",
              "    async function download(id, filename, size) {\n",
              "      if (!google.colab.kernel.accessAllowed) {\n",
              "        return;\n",
              "      }\n",
              "      const div = document.createElement('div');\n",
              "      const label = document.createElement('label');\n",
              "      label.textContent = `Downloading \"${filename}\": `;\n",
              "      div.appendChild(label);\n",
              "      const progress = document.createElement('progress');\n",
              "      progress.max = size;\n",
              "      div.appendChild(progress);\n",
              "      document.body.appendChild(div);\n",
              "\n",
              "      const buffers = [];\n",
              "      let downloaded = 0;\n",
              "\n",
              "      const channel = await google.colab.kernel.comms.open(id);\n",
              "      // Send a message to notify the kernel that we're ready.\n",
              "      channel.send({})\n",
              "\n",
              "      for await (const message of channel.messages) {\n",
              "        // Send a message to notify the kernel that we're ready.\n",
              "        channel.send({})\n",
              "        if (message.buffers) {\n",
              "          for (const buffer of message.buffers) {\n",
              "            buffers.push(buffer);\n",
              "            downloaded += buffer.byteLength;\n",
              "            progress.value = downloaded;\n",
              "          }\n",
              "        }\n",
              "      }\n",
              "      const blob = new Blob(buffers, {type: 'application/binary'});\n",
              "      const a = document.createElement('a');\n",
              "      a.href = window.URL.createObjectURL(blob);\n",
              "      a.download = filename;\n",
              "      div.appendChild(a);\n",
              "      a.click();\n",
              "      div.remove();\n",
              "    }\n",
              "  "
            ]
          },
          "metadata": {}
        },
        {
          "output_type": "display_data",
          "data": {
            "text/plain": [
              "<IPython.core.display.Javascript object>"
            ],
            "application/javascript": [
              "download(\"download_3f3d8fd4-6c25-4ddf-835a-208873814bef\", \"Columna2.csv\", 974)"
            ]
          },
          "metadata": {}
        }
      ]
    },
    {
      "cell_type": "code",
      "source": [
        "c3.to_csv(\"Columna3.csv\")\n",
        "files.download(\"Columna3.csv\")"
      ],
      "metadata": {
        "colab": {
          "base_uri": "https://localhost:8080/",
          "height": 17
        },
        "id": "Qonroy1vSXfp",
        "outputId": "8a5cd909-5a79-4b91-e076-d02bda65c5ef"
      },
      "execution_count": 89,
      "outputs": [
        {
          "output_type": "display_data",
          "data": {
            "text/plain": [
              "<IPython.core.display.Javascript object>"
            ],
            "application/javascript": [
              "\n",
              "    async function download(id, filename, size) {\n",
              "      if (!google.colab.kernel.accessAllowed) {\n",
              "        return;\n",
              "      }\n",
              "      const div = document.createElement('div');\n",
              "      const label = document.createElement('label');\n",
              "      label.textContent = `Downloading \"${filename}\": `;\n",
              "      div.appendChild(label);\n",
              "      const progress = document.createElement('progress');\n",
              "      progress.max = size;\n",
              "      div.appendChild(progress);\n",
              "      document.body.appendChild(div);\n",
              "\n",
              "      const buffers = [];\n",
              "      let downloaded = 0;\n",
              "\n",
              "      const channel = await google.colab.kernel.comms.open(id);\n",
              "      // Send a message to notify the kernel that we're ready.\n",
              "      channel.send({})\n",
              "\n",
              "      for await (const message of channel.messages) {\n",
              "        // Send a message to notify the kernel that we're ready.\n",
              "        channel.send({})\n",
              "        if (message.buffers) {\n",
              "          for (const buffer of message.buffers) {\n",
              "            buffers.push(buffer);\n",
              "            downloaded += buffer.byteLength;\n",
              "            progress.value = downloaded;\n",
              "          }\n",
              "        }\n",
              "      }\n",
              "      const blob = new Blob(buffers, {type: 'application/binary'});\n",
              "      const a = document.createElement('a');\n",
              "      a.href = window.URL.createObjectURL(blob);\n",
              "      a.download = filename;\n",
              "      div.appendChild(a);\n",
              "      a.click();\n",
              "      div.remove();\n",
              "    }\n",
              "  "
            ]
          },
          "metadata": {}
        },
        {
          "output_type": "display_data",
          "data": {
            "text/plain": [
              "<IPython.core.display.Javascript object>"
            ],
            "application/javascript": [
              "download(\"download_966464ab-d064-417e-8050-171211afae21\", \"Columna3.csv\", 971)"
            ]
          },
          "metadata": {}
        }
      ]
    },
    {
      "cell_type": "code",
      "source": [
        "c4.to_csv(\"Columna4.csv\")\n",
        "files.download(\"Columna4.csv\")"
      ],
      "metadata": {
        "colab": {
          "base_uri": "https://localhost:8080/",
          "height": 17
        },
        "id": "NkxJ1tb6SYGx",
        "outputId": "daf876a5-98cb-4b06-db6e-2139e2784beb"
      },
      "execution_count": 90,
      "outputs": [
        {
          "output_type": "display_data",
          "data": {
            "text/plain": [
              "<IPython.core.display.Javascript object>"
            ],
            "application/javascript": [
              "\n",
              "    async function download(id, filename, size) {\n",
              "      if (!google.colab.kernel.accessAllowed) {\n",
              "        return;\n",
              "      }\n",
              "      const div = document.createElement('div');\n",
              "      const label = document.createElement('label');\n",
              "      label.textContent = `Downloading \"${filename}\": `;\n",
              "      div.appendChild(label);\n",
              "      const progress = document.createElement('progress');\n",
              "      progress.max = size;\n",
              "      div.appendChild(progress);\n",
              "      document.body.appendChild(div);\n",
              "\n",
              "      const buffers = [];\n",
              "      let downloaded = 0;\n",
              "\n",
              "      const channel = await google.colab.kernel.comms.open(id);\n",
              "      // Send a message to notify the kernel that we're ready.\n",
              "      channel.send({})\n",
              "\n",
              "      for await (const message of channel.messages) {\n",
              "        // Send a message to notify the kernel that we're ready.\n",
              "        channel.send({})\n",
              "        if (message.buffers) {\n",
              "          for (const buffer of message.buffers) {\n",
              "            buffers.push(buffer);\n",
              "            downloaded += buffer.byteLength;\n",
              "            progress.value = downloaded;\n",
              "          }\n",
              "        }\n",
              "      }\n",
              "      const blob = new Blob(buffers, {type: 'application/binary'});\n",
              "      const a = document.createElement('a');\n",
              "      a.href = window.URL.createObjectURL(blob);\n",
              "      a.download = filename;\n",
              "      div.appendChild(a);\n",
              "      a.click();\n",
              "      div.remove();\n",
              "    }\n",
              "  "
            ]
          },
          "metadata": {}
        },
        {
          "output_type": "display_data",
          "data": {
            "text/plain": [
              "<IPython.core.display.Javascript object>"
            ],
            "application/javascript": [
              "download(\"download_45781e3b-4940-4c5b-b2b3-bc1dc6c7c651\", \"Columna4.csv\", 974)"
            ]
          },
          "metadata": {}
        }
      ]
    },
    {
      "cell_type": "code",
      "source": [
        "c5.to_csv(\"Columna5.csv\")\n",
        "files.download(\"Columna5.csv\")"
      ],
      "metadata": {
        "colab": {
          "base_uri": "https://localhost:8080/",
          "height": 17
        },
        "id": "YFTGhB4zSYql",
        "outputId": "e08ee85e-e21d-4074-e3ab-dd100befd41a"
      },
      "execution_count": 91,
      "outputs": [
        {
          "output_type": "display_data",
          "data": {
            "text/plain": [
              "<IPython.core.display.Javascript object>"
            ],
            "application/javascript": [
              "\n",
              "    async function download(id, filename, size) {\n",
              "      if (!google.colab.kernel.accessAllowed) {\n",
              "        return;\n",
              "      }\n",
              "      const div = document.createElement('div');\n",
              "      const label = document.createElement('label');\n",
              "      label.textContent = `Downloading \"${filename}\": `;\n",
              "      div.appendChild(label);\n",
              "      const progress = document.createElement('progress');\n",
              "      progress.max = size;\n",
              "      div.appendChild(progress);\n",
              "      document.body.appendChild(div);\n",
              "\n",
              "      const buffers = [];\n",
              "      let downloaded = 0;\n",
              "\n",
              "      const channel = await google.colab.kernel.comms.open(id);\n",
              "      // Send a message to notify the kernel that we're ready.\n",
              "      channel.send({})\n",
              "\n",
              "      for await (const message of channel.messages) {\n",
              "        // Send a message to notify the kernel that we're ready.\n",
              "        channel.send({})\n",
              "        if (message.buffers) {\n",
              "          for (const buffer of message.buffers) {\n",
              "            buffers.push(buffer);\n",
              "            downloaded += buffer.byteLength;\n",
              "            progress.value = downloaded;\n",
              "          }\n",
              "        }\n",
              "      }\n",
              "      const blob = new Blob(buffers, {type: 'application/binary'});\n",
              "      const a = document.createElement('a');\n",
              "      a.href = window.URL.createObjectURL(blob);\n",
              "      a.download = filename;\n",
              "      div.appendChild(a);\n",
              "      a.click();\n",
              "      div.remove();\n",
              "    }\n",
              "  "
            ]
          },
          "metadata": {}
        },
        {
          "output_type": "display_data",
          "data": {
            "text/plain": [
              "<IPython.core.display.Javascript object>"
            ],
            "application/javascript": [
              "download(\"download_71a1fe2b-814f-4178-8dc7-6471f1bdb638\", \"Columna5.csv\", 979)"
            ]
          },
          "metadata": {}
        }
      ]
    },
    {
      "cell_type": "code",
      "source": [
        "c6.to_csv(\"Columna6.csv\")\n",
        "files.download(\"Columna6.csv\")"
      ],
      "metadata": {
        "colab": {
          "base_uri": "https://localhost:8080/",
          "height": 17
        },
        "id": "rJOKvc2nSZRP",
        "outputId": "4aec92e5-5c04-482e-d01c-cd4374e262ff"
      },
      "execution_count": 92,
      "outputs": [
        {
          "output_type": "display_data",
          "data": {
            "text/plain": [
              "<IPython.core.display.Javascript object>"
            ],
            "application/javascript": [
              "\n",
              "    async function download(id, filename, size) {\n",
              "      if (!google.colab.kernel.accessAllowed) {\n",
              "        return;\n",
              "      }\n",
              "      const div = document.createElement('div');\n",
              "      const label = document.createElement('label');\n",
              "      label.textContent = `Downloading \"${filename}\": `;\n",
              "      div.appendChild(label);\n",
              "      const progress = document.createElement('progress');\n",
              "      progress.max = size;\n",
              "      div.appendChild(progress);\n",
              "      document.body.appendChild(div);\n",
              "\n",
              "      const buffers = [];\n",
              "      let downloaded = 0;\n",
              "\n",
              "      const channel = await google.colab.kernel.comms.open(id);\n",
              "      // Send a message to notify the kernel that we're ready.\n",
              "      channel.send({})\n",
              "\n",
              "      for await (const message of channel.messages) {\n",
              "        // Send a message to notify the kernel that we're ready.\n",
              "        channel.send({})\n",
              "        if (message.buffers) {\n",
              "          for (const buffer of message.buffers) {\n",
              "            buffers.push(buffer);\n",
              "            downloaded += buffer.byteLength;\n",
              "            progress.value = downloaded;\n",
              "          }\n",
              "        }\n",
              "      }\n",
              "      const blob = new Blob(buffers, {type: 'application/binary'});\n",
              "      const a = document.createElement('a');\n",
              "      a.href = window.URL.createObjectURL(blob);\n",
              "      a.download = filename;\n",
              "      div.appendChild(a);\n",
              "      a.click();\n",
              "      div.remove();\n",
              "    }\n",
              "  "
            ]
          },
          "metadata": {}
        },
        {
          "output_type": "display_data",
          "data": {
            "text/plain": [
              "<IPython.core.display.Javascript object>"
            ],
            "application/javascript": [
              "download(\"download_7f4d48ed-3104-4877-a81f-f06867fd37cb\", \"Columna6.csv\", 967)"
            ]
          },
          "metadata": {}
        }
      ]
    },
    {
      "cell_type": "code",
      "source": [
        "c7.to_csv(\"Columna7.csv\")\n",
        "files.download(\"Columna7.csv\")"
      ],
      "metadata": {
        "colab": {
          "base_uri": "https://localhost:8080/",
          "height": 17
        },
        "id": "2CfV_FwtSZv_",
        "outputId": "9303af5a-b8d9-4546-c2be-b8186ffa85fe"
      },
      "execution_count": 93,
      "outputs": [
        {
          "output_type": "display_data",
          "data": {
            "text/plain": [
              "<IPython.core.display.Javascript object>"
            ],
            "application/javascript": [
              "\n",
              "    async function download(id, filename, size) {\n",
              "      if (!google.colab.kernel.accessAllowed) {\n",
              "        return;\n",
              "      }\n",
              "      const div = document.createElement('div');\n",
              "      const label = document.createElement('label');\n",
              "      label.textContent = `Downloading \"${filename}\": `;\n",
              "      div.appendChild(label);\n",
              "      const progress = document.createElement('progress');\n",
              "      progress.max = size;\n",
              "      div.appendChild(progress);\n",
              "      document.body.appendChild(div);\n",
              "\n",
              "      const buffers = [];\n",
              "      let downloaded = 0;\n",
              "\n",
              "      const channel = await google.colab.kernel.comms.open(id);\n",
              "      // Send a message to notify the kernel that we're ready.\n",
              "      channel.send({})\n",
              "\n",
              "      for await (const message of channel.messages) {\n",
              "        // Send a message to notify the kernel that we're ready.\n",
              "        channel.send({})\n",
              "        if (message.buffers) {\n",
              "          for (const buffer of message.buffers) {\n",
              "            buffers.push(buffer);\n",
              "            downloaded += buffer.byteLength;\n",
              "            progress.value = downloaded;\n",
              "          }\n",
              "        }\n",
              "      }\n",
              "      const blob = new Blob(buffers, {type: 'application/binary'});\n",
              "      const a = document.createElement('a');\n",
              "      a.href = window.URL.createObjectURL(blob);\n",
              "      a.download = filename;\n",
              "      div.appendChild(a);\n",
              "      a.click();\n",
              "      div.remove();\n",
              "    }\n",
              "  "
            ]
          },
          "metadata": {}
        },
        {
          "output_type": "display_data",
          "data": {
            "text/plain": [
              "<IPython.core.display.Javascript object>"
            ],
            "application/javascript": [
              "download(\"download_91ffd9ec-40e5-4350-aef5-236bd92e479b\", \"Columna7.csv\", 971)"
            ]
          },
          "metadata": {}
        }
      ]
    },
    {
      "cell_type": "code",
      "source": [
        "c8.to_csv(\"Columna8.csv\")\n",
        "files.download(\"Columna8.csv\")"
      ],
      "metadata": {
        "colab": {
          "base_uri": "https://localhost:8080/",
          "height": 17
        },
        "id": "hWGj41LCSaYA",
        "outputId": "ebc92f6f-3788-482f-f0ce-9900edce97f8"
      },
      "execution_count": 94,
      "outputs": [
        {
          "output_type": "display_data",
          "data": {
            "text/plain": [
              "<IPython.core.display.Javascript object>"
            ],
            "application/javascript": [
              "\n",
              "    async function download(id, filename, size) {\n",
              "      if (!google.colab.kernel.accessAllowed) {\n",
              "        return;\n",
              "      }\n",
              "      const div = document.createElement('div');\n",
              "      const label = document.createElement('label');\n",
              "      label.textContent = `Downloading \"${filename}\": `;\n",
              "      div.appendChild(label);\n",
              "      const progress = document.createElement('progress');\n",
              "      progress.max = size;\n",
              "      div.appendChild(progress);\n",
              "      document.body.appendChild(div);\n",
              "\n",
              "      const buffers = [];\n",
              "      let downloaded = 0;\n",
              "\n",
              "      const channel = await google.colab.kernel.comms.open(id);\n",
              "      // Send a message to notify the kernel that we're ready.\n",
              "      channel.send({})\n",
              "\n",
              "      for await (const message of channel.messages) {\n",
              "        // Send a message to notify the kernel that we're ready.\n",
              "        channel.send({})\n",
              "        if (message.buffers) {\n",
              "          for (const buffer of message.buffers) {\n",
              "            buffers.push(buffer);\n",
              "            downloaded += buffer.byteLength;\n",
              "            progress.value = downloaded;\n",
              "          }\n",
              "        }\n",
              "      }\n",
              "      const blob = new Blob(buffers, {type: 'application/binary'});\n",
              "      const a = document.createElement('a');\n",
              "      a.href = window.URL.createObjectURL(blob);\n",
              "      a.download = filename;\n",
              "      div.appendChild(a);\n",
              "      a.click();\n",
              "      div.remove();\n",
              "    }\n",
              "  "
            ]
          },
          "metadata": {}
        },
        {
          "output_type": "display_data",
          "data": {
            "text/plain": [
              "<IPython.core.display.Javascript object>"
            ],
            "application/javascript": [
              "download(\"download_781831ce-fd5c-43d6-ada1-6b32a4c9df41\", \"Columna8.csv\", 966)"
            ]
          },
          "metadata": {}
        }
      ]
    },
    {
      "cell_type": "code",
      "source": [
        "c9.to_csv(\"Columna9.csv\")\n",
        "files.download(\"Columna9.csv\")"
      ],
      "metadata": {
        "colab": {
          "base_uri": "https://localhost:8080/",
          "height": 17
        },
        "id": "sPqtXnBrSayQ",
        "outputId": "1b2bc556-310b-43e2-cd09-6c388041150d"
      },
      "execution_count": 95,
      "outputs": [
        {
          "output_type": "display_data",
          "data": {
            "text/plain": [
              "<IPython.core.display.Javascript object>"
            ],
            "application/javascript": [
              "\n",
              "    async function download(id, filename, size) {\n",
              "      if (!google.colab.kernel.accessAllowed) {\n",
              "        return;\n",
              "      }\n",
              "      const div = document.createElement('div');\n",
              "      const label = document.createElement('label');\n",
              "      label.textContent = `Downloading \"${filename}\": `;\n",
              "      div.appendChild(label);\n",
              "      const progress = document.createElement('progress');\n",
              "      progress.max = size;\n",
              "      div.appendChild(progress);\n",
              "      document.body.appendChild(div);\n",
              "\n",
              "      const buffers = [];\n",
              "      let downloaded = 0;\n",
              "\n",
              "      const channel = await google.colab.kernel.comms.open(id);\n",
              "      // Send a message to notify the kernel that we're ready.\n",
              "      channel.send({})\n",
              "\n",
              "      for await (const message of channel.messages) {\n",
              "        // Send a message to notify the kernel that we're ready.\n",
              "        channel.send({})\n",
              "        if (message.buffers) {\n",
              "          for (const buffer of message.buffers) {\n",
              "            buffers.push(buffer);\n",
              "            downloaded += buffer.byteLength;\n",
              "            progress.value = downloaded;\n",
              "          }\n",
              "        }\n",
              "      }\n",
              "      const blob = new Blob(buffers, {type: 'application/binary'});\n",
              "      const a = document.createElement('a');\n",
              "      a.href = window.URL.createObjectURL(blob);\n",
              "      a.download = filename;\n",
              "      div.appendChild(a);\n",
              "      a.click();\n",
              "      div.remove();\n",
              "    }\n",
              "  "
            ]
          },
          "metadata": {}
        },
        {
          "output_type": "display_data",
          "data": {
            "text/plain": [
              "<IPython.core.display.Javascript object>"
            ],
            "application/javascript": [
              "download(\"download_e35d193d-d04b-4ddf-91ab-6a9c4e9e52a1\", \"Columna9.csv\", 966)"
            ]
          },
          "metadata": {}
        }
      ]
    },
    {
      "cell_type": "code",
      "source": [
        "c10.to_csv(\"Columna10.csv\")\n",
        "files.download(\"Columna10.csv\")"
      ],
      "metadata": {
        "colab": {
          "base_uri": "https://localhost:8080/",
          "height": 17
        },
        "id": "W4AyU09CSbI1",
        "outputId": "66017f78-bafd-41b4-b01b-fb83b1cdbb26"
      },
      "execution_count": 96,
      "outputs": [
        {
          "output_type": "display_data",
          "data": {
            "text/plain": [
              "<IPython.core.display.Javascript object>"
            ],
            "application/javascript": [
              "\n",
              "    async function download(id, filename, size) {\n",
              "      if (!google.colab.kernel.accessAllowed) {\n",
              "        return;\n",
              "      }\n",
              "      const div = document.createElement('div');\n",
              "      const label = document.createElement('label');\n",
              "      label.textContent = `Downloading \"${filename}\": `;\n",
              "      div.appendChild(label);\n",
              "      const progress = document.createElement('progress');\n",
              "      progress.max = size;\n",
              "      div.appendChild(progress);\n",
              "      document.body.appendChild(div);\n",
              "\n",
              "      const buffers = [];\n",
              "      let downloaded = 0;\n",
              "\n",
              "      const channel = await google.colab.kernel.comms.open(id);\n",
              "      // Send a message to notify the kernel that we're ready.\n",
              "      channel.send({})\n",
              "\n",
              "      for await (const message of channel.messages) {\n",
              "        // Send a message to notify the kernel that we're ready.\n",
              "        channel.send({})\n",
              "        if (message.buffers) {\n",
              "          for (const buffer of message.buffers) {\n",
              "            buffers.push(buffer);\n",
              "            downloaded += buffer.byteLength;\n",
              "            progress.value = downloaded;\n",
              "          }\n",
              "        }\n",
              "      }\n",
              "      const blob = new Blob(buffers, {type: 'application/binary'});\n",
              "      const a = document.createElement('a');\n",
              "      a.href = window.URL.createObjectURL(blob);\n",
              "      a.download = filename;\n",
              "      div.appendChild(a);\n",
              "      a.click();\n",
              "      div.remove();\n",
              "    }\n",
              "  "
            ]
          },
          "metadata": {}
        },
        {
          "output_type": "display_data",
          "data": {
            "text/plain": [
              "<IPython.core.display.Javascript object>"
            ],
            "application/javascript": [
              "download(\"download_0b5f894c-a049-4f38-8ac8-71bcc997a7a8\", \"Columna10.csv\", 968)"
            ]
          },
          "metadata": {}
        }
      ]
    },
    {
      "cell_type": "code",
      "source": [
        "c11.to_csv(\"Columna11.csv\")\n",
        "files.download(\"Columna11.csv\")"
      ],
      "metadata": {
        "colab": {
          "base_uri": "https://localhost:8080/",
          "height": 17
        },
        "id": "mbCw4ucHSbhe",
        "outputId": "bbb39a6f-14d3-40e0-e61f-21543f84a989"
      },
      "execution_count": 97,
      "outputs": [
        {
          "output_type": "display_data",
          "data": {
            "text/plain": [
              "<IPython.core.display.Javascript object>"
            ],
            "application/javascript": [
              "\n",
              "    async function download(id, filename, size) {\n",
              "      if (!google.colab.kernel.accessAllowed) {\n",
              "        return;\n",
              "      }\n",
              "      const div = document.createElement('div');\n",
              "      const label = document.createElement('label');\n",
              "      label.textContent = `Downloading \"${filename}\": `;\n",
              "      div.appendChild(label);\n",
              "      const progress = document.createElement('progress');\n",
              "      progress.max = size;\n",
              "      div.appendChild(progress);\n",
              "      document.body.appendChild(div);\n",
              "\n",
              "      const buffers = [];\n",
              "      let downloaded = 0;\n",
              "\n",
              "      const channel = await google.colab.kernel.comms.open(id);\n",
              "      // Send a message to notify the kernel that we're ready.\n",
              "      channel.send({})\n",
              "\n",
              "      for await (const message of channel.messages) {\n",
              "        // Send a message to notify the kernel that we're ready.\n",
              "        channel.send({})\n",
              "        if (message.buffers) {\n",
              "          for (const buffer of message.buffers) {\n",
              "            buffers.push(buffer);\n",
              "            downloaded += buffer.byteLength;\n",
              "            progress.value = downloaded;\n",
              "          }\n",
              "        }\n",
              "      }\n",
              "      const blob = new Blob(buffers, {type: 'application/binary'});\n",
              "      const a = document.createElement('a');\n",
              "      a.href = window.URL.createObjectURL(blob);\n",
              "      a.download = filename;\n",
              "      div.appendChild(a);\n",
              "      a.click();\n",
              "      div.remove();\n",
              "    }\n",
              "  "
            ]
          },
          "metadata": {}
        },
        {
          "output_type": "display_data",
          "data": {
            "text/plain": [
              "<IPython.core.display.Javascript object>"
            ],
            "application/javascript": [
              "download(\"download_a770466c-9517-41f4-aa62-62bc1ba577e0\", \"Columna11.csv\", 974)"
            ]
          },
          "metadata": {}
        }
      ]
    },
    {
      "cell_type": "code",
      "source": [
        "c12.to_csv(\"Columna12.csv\")\n",
        "files.download(\"Columna12.csv\")"
      ],
      "metadata": {
        "colab": {
          "base_uri": "https://localhost:8080/",
          "height": 17
        },
        "id": "1o-PxrPISb-w",
        "outputId": "05264ef8-979c-4fff-ccaf-24e6293fb9c4"
      },
      "execution_count": 98,
      "outputs": [
        {
          "output_type": "display_data",
          "data": {
            "text/plain": [
              "<IPython.core.display.Javascript object>"
            ],
            "application/javascript": [
              "\n",
              "    async function download(id, filename, size) {\n",
              "      if (!google.colab.kernel.accessAllowed) {\n",
              "        return;\n",
              "      }\n",
              "      const div = document.createElement('div');\n",
              "      const label = document.createElement('label');\n",
              "      label.textContent = `Downloading \"${filename}\": `;\n",
              "      div.appendChild(label);\n",
              "      const progress = document.createElement('progress');\n",
              "      progress.max = size;\n",
              "      div.appendChild(progress);\n",
              "      document.body.appendChild(div);\n",
              "\n",
              "      const buffers = [];\n",
              "      let downloaded = 0;\n",
              "\n",
              "      const channel = await google.colab.kernel.comms.open(id);\n",
              "      // Send a message to notify the kernel that we're ready.\n",
              "      channel.send({})\n",
              "\n",
              "      for await (const message of channel.messages) {\n",
              "        // Send a message to notify the kernel that we're ready.\n",
              "        channel.send({})\n",
              "        if (message.buffers) {\n",
              "          for (const buffer of message.buffers) {\n",
              "            buffers.push(buffer);\n",
              "            downloaded += buffer.byteLength;\n",
              "            progress.value = downloaded;\n",
              "          }\n",
              "        }\n",
              "      }\n",
              "      const blob = new Blob(buffers, {type: 'application/binary'});\n",
              "      const a = document.createElement('a');\n",
              "      a.href = window.URL.createObjectURL(blob);\n",
              "      a.download = filename;\n",
              "      div.appendChild(a);\n",
              "      a.click();\n",
              "      div.remove();\n",
              "    }\n",
              "  "
            ]
          },
          "metadata": {}
        },
        {
          "output_type": "display_data",
          "data": {
            "text/plain": [
              "<IPython.core.display.Javascript object>"
            ],
            "application/javascript": [
              "download(\"download_8b11559e-014b-4d3b-a934-290c0d5fd363\", \"Columna12.csv\", 987)"
            ]
          },
          "metadata": {}
        }
      ]
    },
    {
      "cell_type": "code",
      "source": [
        "c13.to_csv(\"Columna13.csv\")\n",
        "files.download(\"Columna13.csv\")"
      ],
      "metadata": {
        "colab": {
          "base_uri": "https://localhost:8080/",
          "height": 17
        },
        "id": "HVLWUv7OScVS",
        "outputId": "91d1a30b-bb4f-423a-c64a-22fed0b09161"
      },
      "execution_count": 99,
      "outputs": [
        {
          "output_type": "display_data",
          "data": {
            "text/plain": [
              "<IPython.core.display.Javascript object>"
            ],
            "application/javascript": [
              "\n",
              "    async function download(id, filename, size) {\n",
              "      if (!google.colab.kernel.accessAllowed) {\n",
              "        return;\n",
              "      }\n",
              "      const div = document.createElement('div');\n",
              "      const label = document.createElement('label');\n",
              "      label.textContent = `Downloading \"${filename}\": `;\n",
              "      div.appendChild(label);\n",
              "      const progress = document.createElement('progress');\n",
              "      progress.max = size;\n",
              "      div.appendChild(progress);\n",
              "      document.body.appendChild(div);\n",
              "\n",
              "      const buffers = [];\n",
              "      let downloaded = 0;\n",
              "\n",
              "      const channel = await google.colab.kernel.comms.open(id);\n",
              "      // Send a message to notify the kernel that we're ready.\n",
              "      channel.send({})\n",
              "\n",
              "      for await (const message of channel.messages) {\n",
              "        // Send a message to notify the kernel that we're ready.\n",
              "        channel.send({})\n",
              "        if (message.buffers) {\n",
              "          for (const buffer of message.buffers) {\n",
              "            buffers.push(buffer);\n",
              "            downloaded += buffer.byteLength;\n",
              "            progress.value = downloaded;\n",
              "          }\n",
              "        }\n",
              "      }\n",
              "      const blob = new Blob(buffers, {type: 'application/binary'});\n",
              "      const a = document.createElement('a');\n",
              "      a.href = window.URL.createObjectURL(blob);\n",
              "      a.download = filename;\n",
              "      div.appendChild(a);\n",
              "      a.click();\n",
              "      div.remove();\n",
              "    }\n",
              "  "
            ]
          },
          "metadata": {}
        },
        {
          "output_type": "display_data",
          "data": {
            "text/plain": [
              "<IPython.core.display.Javascript object>"
            ],
            "application/javascript": [
              "download(\"download_b5dfb606-4baf-4f09-9850-c8419a4a432c\", \"Columna13.csv\", 990)"
            ]
          },
          "metadata": {}
        }
      ]
    },
    {
      "cell_type": "code",
      "source": [
        "c14.to_csv(\"Columna14.csv\")\n",
        "files.download(\"Columna14.csv\")"
      ],
      "metadata": {
        "colab": {
          "base_uri": "https://localhost:8080/",
          "height": 17
        },
        "id": "fwvkx6JbTE4G",
        "outputId": "a9267f24-e7e0-40a1-bc67-5b1fcc58c52b"
      },
      "execution_count": 100,
      "outputs": [
        {
          "output_type": "display_data",
          "data": {
            "text/plain": [
              "<IPython.core.display.Javascript object>"
            ],
            "application/javascript": [
              "\n",
              "    async function download(id, filename, size) {\n",
              "      if (!google.colab.kernel.accessAllowed) {\n",
              "        return;\n",
              "      }\n",
              "      const div = document.createElement('div');\n",
              "      const label = document.createElement('label');\n",
              "      label.textContent = `Downloading \"${filename}\": `;\n",
              "      div.appendChild(label);\n",
              "      const progress = document.createElement('progress');\n",
              "      progress.max = size;\n",
              "      div.appendChild(progress);\n",
              "      document.body.appendChild(div);\n",
              "\n",
              "      const buffers = [];\n",
              "      let downloaded = 0;\n",
              "\n",
              "      const channel = await google.colab.kernel.comms.open(id);\n",
              "      // Send a message to notify the kernel that we're ready.\n",
              "      channel.send({})\n",
              "\n",
              "      for await (const message of channel.messages) {\n",
              "        // Send a message to notify the kernel that we're ready.\n",
              "        channel.send({})\n",
              "        if (message.buffers) {\n",
              "          for (const buffer of message.buffers) {\n",
              "            buffers.push(buffer);\n",
              "            downloaded += buffer.byteLength;\n",
              "            progress.value = downloaded;\n",
              "          }\n",
              "        }\n",
              "      }\n",
              "      const blob = new Blob(buffers, {type: 'application/binary'});\n",
              "      const a = document.createElement('a');\n",
              "      a.href = window.URL.createObjectURL(blob);\n",
              "      a.download = filename;\n",
              "      div.appendChild(a);\n",
              "      a.click();\n",
              "      div.remove();\n",
              "    }\n",
              "  "
            ]
          },
          "metadata": {}
        },
        {
          "output_type": "display_data",
          "data": {
            "text/plain": [
              "<IPython.core.display.Javascript object>"
            ],
            "application/javascript": [
              "download(\"download_03f84a5b-8c93-4930-b4af-94fe6265378f\", \"Columna14.csv\", 980)"
            ]
          },
          "metadata": {}
        }
      ]
    },
    {
      "cell_type": "code",
      "source": [
        "c15.to_csv(\"Columna15.csv\")\n",
        "files.download(\"Columna15.csv\")"
      ],
      "metadata": {
        "colab": {
          "base_uri": "https://localhost:8080/",
          "height": 17
        },
        "id": "kqikyTjTTFPx",
        "outputId": "c8913610-2c88-4628-e6fb-72e00e862917"
      },
      "execution_count": 101,
      "outputs": [
        {
          "output_type": "display_data",
          "data": {
            "text/plain": [
              "<IPython.core.display.Javascript object>"
            ],
            "application/javascript": [
              "\n",
              "    async function download(id, filename, size) {\n",
              "      if (!google.colab.kernel.accessAllowed) {\n",
              "        return;\n",
              "      }\n",
              "      const div = document.createElement('div');\n",
              "      const label = document.createElement('label');\n",
              "      label.textContent = `Downloading \"${filename}\": `;\n",
              "      div.appendChild(label);\n",
              "      const progress = document.createElement('progress');\n",
              "      progress.max = size;\n",
              "      div.appendChild(progress);\n",
              "      document.body.appendChild(div);\n",
              "\n",
              "      const buffers = [];\n",
              "      let downloaded = 0;\n",
              "\n",
              "      const channel = await google.colab.kernel.comms.open(id);\n",
              "      // Send a message to notify the kernel that we're ready.\n",
              "      channel.send({})\n",
              "\n",
              "      for await (const message of channel.messages) {\n",
              "        // Send a message to notify the kernel that we're ready.\n",
              "        channel.send({})\n",
              "        if (message.buffers) {\n",
              "          for (const buffer of message.buffers) {\n",
              "            buffers.push(buffer);\n",
              "            downloaded += buffer.byteLength;\n",
              "            progress.value = downloaded;\n",
              "          }\n",
              "        }\n",
              "      }\n",
              "      const blob = new Blob(buffers, {type: 'application/binary'});\n",
              "      const a = document.createElement('a');\n",
              "      a.href = window.URL.createObjectURL(blob);\n",
              "      a.download = filename;\n",
              "      div.appendChild(a);\n",
              "      a.click();\n",
              "      div.remove();\n",
              "    }\n",
              "  "
            ]
          },
          "metadata": {}
        },
        {
          "output_type": "display_data",
          "data": {
            "text/plain": [
              "<IPython.core.display.Javascript object>"
            ],
            "application/javascript": [
              "download(\"download_b772cc2c-8592-4693-9d7f-c5422a03beb1\", \"Columna15.csv\", 954)"
            ]
          },
          "metadata": {}
        }
      ]
    }
  ]
}